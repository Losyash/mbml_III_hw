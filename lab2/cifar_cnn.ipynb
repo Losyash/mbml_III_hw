{
 "cells": [
  {
   "cell_type": "markdown",
   "metadata": {},
   "source": [
    "### Импорт библиотек"
   ]
  },
  {
   "cell_type": "code",
   "execution_count": 8,
   "metadata": {},
   "outputs": [],
   "source": [
    "import torch\n",
    "import torch.nn as nn\n",
    "import torch.nn.functional as F\n",
    "import torch.optim as optim\n",
    "\n",
    "import torchvision\n",
    "import torchvision.transforms as transforms"
   ]
  },
  {
   "cell_type": "markdown",
   "metadata": {},
   "source": [
    "### Определение функций"
   ]
  },
  {
   "cell_type": "code",
   "execution_count": 9,
   "metadata": {},
   "outputs": [],
   "source": [
    "\n",
    "def save_model(model, epoch, final_model=False):\n",
    "  '''\n",
    "    Сохранение модели в файл\n",
    "  '''\n",
    "  fulename = './models/model.pth' if final_model else f'./models/model_epoch_{str(epoch)}.pth'\n",
    "  torch.save(model.state_dict(), fulename)\n",
    "\n",
    "\n",
    "def load_model(model, epoch):\n",
    "  '''\n",
    "    Загрузка модели из файла\n",
    "  '''\n",
    "  filename = f'./models/model_epoch_{str(epoch)}.pth'\n",
    "  return model.load_state_dict(torch.load(filename))\n",
    "\n",
    "\n",
    "def get_accuracy(model, test_loader):\n",
    "  '''\n",
    "    Вычисление метрики accuracy\n",
    "  '''\n",
    "  model.eval()\n",
    "  correct = 0\n",
    "  total = 0\n",
    "\n",
    "  for data in test_loader:\n",
    "    images, labels = data\n",
    "    output = model(images)\n",
    "    _, predicted = torch.max(output.data, 1)\n",
    "    total += labels.size(0)\n",
    "    correct += (predicted == labels).sum()\n",
    "\n",
    "  return 100 * correct / total\n",
    "\n",
    "\n",
    "def get_loss(current_loss):\n",
    "  '''\n",
    "    Вычисление фнкции потерь\n",
    "  '''\n",
    "  return current_loss / 50000"
   ]
  },
  {
   "cell_type": "markdown",
   "metadata": {},
   "source": [
    "### Параметры набора данных"
   ]
  },
  {
   "cell_type": "code",
   "execution_count": 10,
   "metadata": {},
   "outputs": [],
   "source": [
    "batch_size = 50\n",
    "num_workers = 4"
   ]
  },
  {
   "cell_type": "markdown",
   "metadata": {},
   "source": [
    "### Параметры трансформации данных"
   ]
  },
  {
   "cell_type": "code",
   "execution_count": 11,
   "metadata": {},
   "outputs": [],
   "source": [
    "train_transform = transforms.Compose([\n",
    "    transforms.RandomCrop(32, padding=4),\n",
    "    transforms.RandomHorizontalFlip(),\n",
    "    transforms.ToTensor(),\n",
    "    transforms.Normalize((0.4914, 0.4822, 0.4465), (0.2023, 0.1994, 0.2010))\n",
    "])\n",
    "\n",
    "test_transform = transforms.Compose([\n",
    "    transforms.ToTensor(),\n",
    "    transforms.Normalize((0.4914, 0.4822, 0.4465), (0.2023, 0.1994, 0.2010))\n",
    "])"
   ]
  },
  {
   "cell_type": "code",
   "execution_count": 12,
   "metadata": {},
   "outputs": [
    {
     "name": "stdout",
     "output_type": "stream",
     "text": [
      "Files already downloaded and verified\n",
      "Files already downloaded and verified\n"
     ]
    }
   ],
   "source": [
    "train_data = torchvision.datasets.CIFAR10(root='./data', train=True, download=True, transform=train_transform)\n",
    "train_loader = torch.utils.data.DataLoader(train_data, batch_size=batch_size, shuffle=True, num_workers=num_workers)\n",
    "\n",
    "test_data = torchvision.datasets.CIFAR10(root='./data', train=False, download=True, transform=test_transform)\n",
    "test_loader = torch.utils.data.DataLoader(test_data, batch_size=batch_size, shuffle=False, num_workers=num_workers)"
   ]
  },
  {
   "cell_type": "markdown",
   "metadata": {},
   "source": [
    "### Описание класса модели"
   ]
  },
  {
   "cell_type": "code",
   "execution_count": 13,
   "metadata": {},
   "outputs": [],
   "source": [
    "class CifarClassifier(nn.Module):\n",
    "  def __init__(self):\n",
    "    super(CifarClassifier, self).__init__()\n",
    "\n",
    "    self.conv1 = nn.Conv2d(in_channels=3, out_channels=48, kernel_size=(3,3), padding=(1,1))\n",
    "    self.conv2 = nn.Conv2d(in_channels=48, out_channels=96, kernel_size=(3,3), padding=(1,1))\n",
    "    self.conv3 = nn.Conv2d(in_channels=96, out_channels=192, kernel_size=(3,3), padding=(1,1))\n",
    "    self.conv4 = nn.Conv2d(in_channels=192, out_channels=256, kernel_size=(3,3), padding=(1,1))\n",
    "    self.pool = nn.MaxPool2d(2,2)\n",
    "    self.fc1 = nn.Linear(in_features=8*8*256, out_features=512)\n",
    "    self.fc2 = nn.Linear(in_features=512, out_features=64)\n",
    "    self.Dropout = nn.Dropout(0.25)\n",
    "    self.fc3 = nn.Linear(in_features=64, out_features=10)\n",
    "\n",
    "  def forward(self, x):\n",
    "    x = F.relu(self.conv1(x))\n",
    "    x = F.relu(self.conv2(x))\n",
    "    x = self.pool(x)\n",
    "    x = self.Dropout(x)\n",
    "    x = F.relu(self.conv3(x))\n",
    "    x = F.relu(self.conv4(x))\n",
    "    x = self.pool(x)\n",
    "    x = self.Dropout(x)\n",
    "    x = x.view(-1, 8*8*256)\n",
    "    x = F.relu(self.fc1(x))\n",
    "    x = F.relu(self.fc2(x))\n",
    "    x = self.Dropout(x)\n",
    "    x = self.fc3(x)\n",
    "    return x"
   ]
  },
  {
   "cell_type": "markdown",
   "metadata": {},
   "source": [
    "### Задание параметров, создание экземпляра и обучение модели"
   ]
  },
  {
   "cell_type": "code",
   "execution_count": 14,
   "metadata": {},
   "outputs": [
    {
     "name": "stdout",
     "output_type": "stream",
     "text": [
      "Epoch: 1, accuracy: 47.84000015258789\n",
      "Epoch: 1, loss: 0.035449444587230684\n",
      "Epoch: 2, accuracy: 62.58000183105469\n",
      "Epoch: 2, loss: 0.025338293136358263\n",
      "Epoch: 3, accuracy: 70.26000213623047\n",
      "Epoch: 3, loss: 0.02018069205760956\n",
      "Epoch: 4, accuracy: 72.86000061035156\n",
      "Epoch: 4, loss: 0.017539769438505173\n",
      "Epoch: 5, accuracy: 74.30999755859375\n",
      "Epoch: 5, loss: 0.015944108557105065\n",
      "Epoch: 6, accuracy: 76.66000366210938\n",
      "Epoch: 6, loss: 0.014666720368862152\n",
      "Epoch: 7, accuracy: 76.87000274658203\n",
      "Epoch: 7, loss: 0.014003162535429001\n",
      "Epoch: 8, accuracy: 78.94999694824219\n",
      "Epoch: 8, loss: 0.013054108299911021\n",
      "Epoch: 9, accuracy: 79.4000015258789\n",
      "Epoch: 9, loss: 0.012554109606742858\n",
      "Epoch: 10, accuracy: 80.30000305175781\n",
      "Epoch: 10, loss: 0.011958377012014389\n"
     ]
    }
   ],
   "source": [
    "model = CifarClassifier()\n",
    "\n",
    "epochs = 10\n",
    "started_epoch = 1\n",
    "use_pretrained_model = False\n",
    "learning_rate = 0.001\n",
    "\n",
    "if use_pretrained_model:\n",
    "  model = load_model(model, started_epoch)\n",
    "\n",
    "criterion = nn.CrossEntropyLoss()\n",
    "\n",
    "for epoch in range(started_epoch, epochs + 1):\n",
    "  current_loss = 0.0\n",
    "  optimizer = optim.Adam(model.parameters(), lr=learning_rate)\n",
    "\n",
    "  for i, data in enumerate(train_loader):\n",
    "    inputs, labels = data\n",
    "    optimizer.zero_grad()\n",
    "    outputs = model(inputs)\n",
    "    loss = criterion(outputs, labels)\n",
    "\n",
    "    loss.backward()\n",
    "    optimizer.step()\n",
    "\n",
    "    current_loss += loss.item()\n",
    "\n",
    "  save_model(model, epoch)\n",
    "\n",
    "  print(f'Epoch: {epoch}, accuracy: {get_accuracy(model, test_loader)}')\n",
    "  print(f'Epoch: {epoch}, loss: {get_loss(current_loss)}')\n",
    "\n",
    "save_model(model, epoch, final_model=True)"
   ]
  }
 ],
 "metadata": {
  "kernelspec": {
   "display_name": "mbml_iii_lab2",
   "language": "python",
   "name": "python3"
  },
  "language_info": {
   "codemirror_mode": {
    "name": "ipython",
    "version": 3
   },
   "file_extension": ".py",
   "mimetype": "text/x-python",
   "name": "python",
   "nbconvert_exporter": "python",
   "pygments_lexer": "ipython3",
   "version": "3.12.7"
  }
 },
 "nbformat": 4,
 "nbformat_minor": 2
}
